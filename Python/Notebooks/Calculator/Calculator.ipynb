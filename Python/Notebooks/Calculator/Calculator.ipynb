{
 "cells": [
  {
   "cell_type": "markdown",
   "metadata": {},
   "source": [
    "Import necessary modules for everything to work"
   ]
  },
  {
   "cell_type": "code",
   "execution_count": 1,
   "metadata": {},
   "outputs": [],
   "source": [
    "from sanic import Sanic\n",
    "from sanic.response import json"
   ]
  },
  {
   "cell_type": "markdown",
   "metadata": {},
   "source": [
    "Calculate \n",
    "```shell\n",
    "Compound interest for a given principal using a specified compound rate and number of years with monthly contributions.\n",
    "Compound interest is calculated using the formula: \n",
    "\n",
    "Total = [ Compound interest for principal ] + [ Future value of a series ]\n",
    "\n",
    "Compound interest for principal = P(1+r/n)^(nt)\n",
    "Future value of a series = PMT * {[(1 + r/n)(nt) - 1] / (r/n)} * (1+r/n)^nt * (1+r/n)\n",
    "\n",
    "Total = [ P(1+r/n)^(nt) ] + [ PMT * (((1 + r/n)^(nt) - 1) / (r/n)) * (1+r/n)]\n",
    "\n",
    "    where \n",
    "      total = the future value of the investment/loan, including interest\n",
    "      P = the principal investment amount(the initial deposit or loan amount)\n",
    "      Pmt = the monthly payment\n",
    "      r = the annual interest rate(decimal)\n",
    "      n = the number of times that interest is compounded per year, or variable t. \n",
    "          (365 = daily, 96 = 4× month or weekly, 48 = 3× month, 24 = 2× month, 12 = monthly, 4 = quarterly, etc.)\n",
    "      t = the time(in years representing how many months, years, etc) the money is invested or borrowed for.\n",
    "```\n"
   ]
  }
 ],
 "metadata": {
  "kernelspec": {
   "display_name": "Python 3 (ipykernel)",
   "language": "python",
   "name": "python3"
  },
  "language_info": {
   "codemirror_mode": {
    "name": "ipython",
    "version": 3
   },
   "file_extension": ".py",
   "mimetype": "text/x-python",
   "name": "python",
   "nbconvert_exporter": "python",
   "pygments_lexer": "ipython3",
   "version": "3.7.3"
  },
  "orig_nbformat": 4
 },
 "nbformat": 4,
 "nbformat_minor": 2
}
