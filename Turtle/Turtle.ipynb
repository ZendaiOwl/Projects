{
 "cells": [
  {
   "cell_type": "markdown",
   "id": "c538058b",
   "metadata": {},
   "source": [
    "Import the Turtle module for drawing lines in a prompt"
   ]
  },
  {
   "cell_type": "code",
   "execution_count": 1,
   "id": "ea241b68",
   "metadata": {},
   "outputs": [],
   "source": [
    "import turtle"
   ]
  },
  {
   "cell_type": "markdown",
   "id": "dec4db5e",
   "metadata": {},
   "source": [
    "Opens up the prompt displaying the turtle"
   ]
  },
  {
   "cell_type": "code",
   "execution_count": 2,
   "id": "5603ba41",
   "metadata": {},
   "outputs": [],
   "source": [
    "turtle.showturtle()"
   ]
  },
  {
   "cell_type": "markdown",
   "id": "3765457a",
   "metadata": {},
   "source": [
    "Makes the turtle move forward 200px "
   ]
  },
  {
   "cell_type": "code",
   "execution_count": 3,
   "id": "af55e961",
   "metadata": {},
   "outputs": [],
   "source": [
    "turtle.forward(200)"
   ]
  },
  {
   "cell_type": "code",
   "execution_count": 4,
   "id": "7ebc14ab",
   "metadata": {},
   "outputs": [],
   "source": [
    "turtle.left(90)"
   ]
  },
  {
   "cell_type": "code",
   "execution_count": 5,
   "id": "c8f9a228",
   "metadata": {},
   "outputs": [],
   "source": [
    "turtle.forward(200)"
   ]
  },
  {
   "cell_type": "code",
   "execution_count": 6,
   "id": "2910c7b2",
   "metadata": {},
   "outputs": [],
   "source": [
    "turtle.left(90)"
   ]
  },
  {
   "cell_type": "code",
   "execution_count": 7,
   "id": "49582ead",
   "metadata": {},
   "outputs": [],
   "source": [
    "turtle.forward(200)"
   ]
  },
  {
   "cell_type": "code",
   "execution_count": 8,
   "id": "0e2ba8e2",
   "metadata": {},
   "outputs": [],
   "source": [
    "turtle.left(90)"
   ]
  },
  {
   "cell_type": "code",
   "execution_count": 9,
   "id": "715d7a6b",
   "metadata": {},
   "outputs": [],
   "source": [
    "turtle.forward(200)"
   ]
  },
  {
   "cell_type": "code",
   "execution_count": 10,
   "id": "b3ae1d07",
   "metadata": {},
   "outputs": [],
   "source": [
    "turtle.left(45)"
   ]
  }
 ],
 "metadata": {
  "kernelspec": {
   "display_name": "Python 3 (ipykernel)",
   "language": "python",
   "name": "python3"
  },
  "language_info": {
   "codemirror_mode": {
    "name": "ipython",
    "version": 3
   },
   "file_extension": ".py",
   "mimetype": "text/x-python",
   "name": "python",
   "nbconvert_exporter": "python",
   "pygments_lexer": "ipython3",
   "version": "3.7.3"
  }
 },
 "nbformat": 4,
 "nbformat_minor": 5
}
